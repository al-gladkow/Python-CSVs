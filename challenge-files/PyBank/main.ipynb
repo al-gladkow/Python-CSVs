{
 "cells": [
  {
   "cell_type": "code",
   "execution_count": 63,
   "metadata": {},
   "outputs": [],
   "source": [
    "# Import CSV and Path modules\n",
    "import csv\n",
    "from pathlib import Path"
   ]
  },
  {
   "cell_type": "code",
   "execution_count": 64,
   "metadata": {},
   "outputs": [],
   "source": [
    "# Create path object to target file\n",
    "csv_path = Path('../DATA/PyBank/budget_data.csv')"
   ]
  },
  {
   "cell_type": "code",
   "execution_count": 65,
   "metadata": {},
   "outputs": [],
   "source": [
    "# Initialize lists to hold extracted csv data\n",
    "dates = []\n",
    "pls = []\n",
    "\n",
    "# Read in CSV\n",
    "with open(csv_path, 'r') as f:\n",
    "    \n",
    "    # Create reader object\n",
    "    csv_file = csv.reader(f, delimiter=',')\n",
    "    \n",
    "    # Save headers and skip em\n",
    "    headers = next(csv_file)\n",
    "    \n",
    "    # Loop through lines of the file\n",
    "    for l in csv_file:\n",
    "        dates.append(l[0])\n",
    "        # Cast P/L values to int first\n",
    "        pls.append(int(l[1]))"
   ]
  },
  {
   "cell_type": "code",
   "execution_count": 66,
   "metadata": {},
   "outputs": [
    {
     "data": {
      "text/plain": [
       "86"
      ]
     },
     "execution_count": 66,
     "metadata": {},
     "output_type": "execute_result"
    }
   ],
   "source": [
    "# Length of dates list = total num of months\n",
    "months_total = len(dates)\n",
    "months_total"
   ]
  },
  {
   "cell_type": "code",
   "execution_count": 67,
   "metadata": {},
   "outputs": [
    {
     "data": {
      "text/plain": [
       "38382578"
      ]
     },
     "execution_count": 67,
     "metadata": {},
     "output_type": "execute_result"
    }
   ],
   "source": [
    "# Sum the P/L values\n",
    "# Initialize running sum to 0\n",
    "pl_net = 0\n",
    "\n",
    "# Loop through P/L values and add to running sum\n",
    "for x in pls:\n",
    "    pl_net += x\n",
    "    \n",
    "pl_net"
   ]
  },
  {
   "cell_type": "code",
   "execution_count": 68,
   "metadata": {},
   "outputs": [
    {
     "data": {
      "text/plain": [
       "-2315.12"
      ]
     },
     "execution_count": 68,
     "metadata": {},
     "output_type": "execute_result"
    }
   ],
   "source": [
    "# Compute average changes in P/L\n",
    "# Initialize list of changes in P/L and running sum\n",
    "changes = []\n",
    "change_total = 0\n",
    "\n",
    "# Loop through P/L values and find the differences\n",
    "# Start at second month since a prior one is needed to compare\n",
    "for x in range(1,len(pls)):\n",
    "    changes.append(pls[x] - pls[x-1])\n",
    "\n",
    "# Sum the changes\n",
    "for x in changes:\n",
    "    change_total += x\n",
    "\n",
    "# Compute the average and round\n",
    "change_avg = round(change_total/len(changes), 2)\n",
    "change_avg"
   ]
  },
  {
   "cell_type": "code",
   "execution_count": 69,
   "metadata": {},
   "outputs": [],
   "source": [
    "# Create dict to look up month by corresponding P/L change\n",
    "lookup = dict()\n",
    "\n",
    "# Add months to dict with their changes, skipping first date again\n",
    "for x in range(len(changes)):\n",
    "    lookup[changes[x]] = dates[x+1]"
   ]
  },
  {
   "cell_type": "code",
   "execution_count": 70,
   "metadata": {},
   "outputs": [
    {
     "name": "stdout",
     "output_type": "stream",
     "text": [
      "-2196167\n",
      "1926159\n"
     ]
    }
   ],
   "source": [
    "# Sort changes to get largest and smallest values\n",
    "changes.sort()\n",
    "\n",
    "# Sorts smallest [0] -> largest [-1]\n",
    "# Smallest value means maximum loss\n",
    "loss_max = changes[0]\n",
    "gain_max = changes[-1]\n",
    "\n",
    "print(loss_max)\n",
    "print(gain_max)"
   ]
  },
  {
   "cell_type": "code",
   "execution_count": 71,
   "metadata": {},
   "outputs": [
    {
     "name": "stdout",
     "output_type": "stream",
     "text": [
      "Sep-2013\n",
      "Feb-2012\n"
     ]
    }
   ],
   "source": [
    "# Get dates by their change values in lookup dict\n",
    "loss_max_month = lookup[loss_max]\n",
    "gain_max_month = lookup[gain_max]\n",
    "\n",
    "print(loss_max_month)\n",
    "print(gain_max_month)"
   ]
  },
  {
   "cell_type": "code",
   "execution_count": 72,
   "metadata": {},
   "outputs": [
    {
     "name": "stdout",
     "output_type": "stream",
     "text": [
      "Financial Analysis\n",
      "----------------------------\n",
      "Total Months: 86\n",
      "Total: $38382578\n",
      "Average Change: $-2315.12\n",
      "Greatest Increase in Profits: Feb-2012 ($1926159)\n",
      "Greatest Decrease in Profits: Sep-2013 ($-2196167)\n"
     ]
    }
   ],
   "source": [
    "# Results formatting trial\n",
    "print('Financial Analysis')\n",
    "print('----------------------------')\n",
    "print(f'Total Months: {months_total}')\n",
    "print(f'Total: ${pl_net}')\n",
    "print(f'Average Change: ${change_avg}')\n",
    "print(f'Greatest Increase in Profits: {gain_max_month} (${gain_max})')\n",
    "print(f'Greatest Decrease in Profits: {loss_max_month} (${loss_max})')"
   ]
  },
  {
   "cell_type": "code",
   "execution_count": 73,
   "metadata": {},
   "outputs": [],
   "source": [
    "# Print the formatted results to a .txt file\n",
    "\n",
    "# Open file\n",
    "with open('results.txt', 'w') as f:\n",
    "    \n",
    "    # Write lines to the opened file\n",
    "    # File needs newline (\\n) unlike the notebook\n",
    "    f.write('Financial Analysis')\n",
    "    f.write('\\n----------------------------')\n",
    "    f.write(f'\\nTotal Months: {months_total}')\n",
    "    f.write(f'\\nTotal: ${pl_net}')\n",
    "    f.write(f'\\nAverage Change: ${change_avg}')\n",
    "    f.write(f'\\nGreatest increase in Profits: {gain_max_month} (${gain_max})')\n",
    "    f.write(f'\\nGreatest decrease in Profits: {loss_max_month} (${loss_max})')"
   ]
  }
 ],
 "metadata": {
  "kernelspec": {
   "display_name": "Python 3.10.5 64-bit",
   "language": "python",
   "name": "python3"
  },
  "language_info": {
   "codemirror_mode": {
    "name": "ipython",
    "version": 3
   },
   "file_extension": ".py",
   "mimetype": "text/x-python",
   "name": "python",
   "nbconvert_exporter": "python",
   "pygments_lexer": "ipython3",
   "version": "3.10.5"
  },
  "orig_nbformat": 4,
  "vscode": {
   "interpreter": {
    "hash": "61385ed115710040535357091b9477b96a704b6acf1326543ab0da0cd8799d4f"
   }
  }
 },
 "nbformat": 4,
 "nbformat_minor": 2
}
