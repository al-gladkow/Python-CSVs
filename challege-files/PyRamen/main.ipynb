{
 "cells": [
  {
   "cell_type": "code",
   "execution_count": 4,
   "metadata": {},
   "outputs": [],
   "source": [
    "import csv\n",
    "from pathlib import Path"
   ]
  },
  {
   "cell_type": "code",
   "execution_count": 7,
   "metadata": {},
   "outputs": [],
   "source": [
    "# Set file paths for menu_data.csv and sales_data.csv\n",
    "menu_filepath = Path('../DATA/PyRamen/Resources/menu_data.csv')\n",
    "sales_filepath = Path('../DATA/PyRamen/Resources/sales_data.csv')"
   ]
  },
  {
   "cell_type": "code",
   "execution_count": 22,
   "metadata": {},
   "outputs": [],
   "source": [
    "# Initialize list objects to hold our menu and sales data\n",
    "menu = []\n",
    "sales = []"
   ]
  },
  {
   "cell_type": "code",
   "execution_count": 10,
   "metadata": {},
   "outputs": [],
   "source": [
    "# Read in the menu data into the menu list\n",
    "with open(menu_filepath) as f:\n",
    "    csv_reader = csv.reader(f)\n",
    "    csv_reader.__next__()\n",
    "    for row in csv_reader:\n",
    "        menu.append(row)"
   ]
  },
  {
   "cell_type": "code",
   "execution_count": 26,
   "metadata": {},
   "outputs": [],
   "source": [
    "# @TODO: Read in the sales data into the sales list\n",
    "with open(sales_filepath) as f:\n",
    "    csv_reader = csv.reader(f)\n",
    "    csv_reader.__next__()\n",
    "    for row in csv_reader:\n",
    "        sales.append(row)"
   ]
  },
  {
   "cell_type": "code",
   "execution_count": 27,
   "metadata": {},
   "outputs": [],
   "source": [
    "# Initialize dict object to hold our key-value pairs of items and metrics\n",
    "report = {}\n",
    "\n",
    "# Initialize a row counter variable\n",
    "row_count = 0"
   ]
  },
  {
   "cell_type": "code",
   "execution_count": 33,
   "metadata": {},
   "outputs": [
    {
     "name": "stdout",
     "output_type": "stream",
     "text": [
      "spicy miso ramen does not equaledamame! NO MATCH!\n",
      "spicy miso ramen does not equalhouse salad! NO MATCH!\n",
      "spicy miso ramen does not equalcucumber sunomono salad! NO MATCH!\n",
      "spicy miso ramen does not equalhiyashi wakame seaweed salad! NO MATCH!\n",
      "spicy miso ramen does not equalagedashi tofu! NO MATCH!\n",
      "spicy miso ramen does not equalhiyayakko tofu! NO MATCH!\n",
      "spicy miso ramen does not equalpork floss bao! NO MATCH!\n",
      "spicy miso ramen does not equalkakuni bao! NO MATCH!\n",
      "spicy miso ramen does not equaledamame fried gyoza (vegan)! NO MATCH!\n",
      "spicy miso ramen does not equalfried gyoza! NO MATCH!\n",
      "spicy miso ramen does not equaltakoyaki! NO MATCH!\n",
      "spicy miso ramen does not equalrock shrimp tempura! NO MATCH!\n",
      "spicy miso ramen does not equalsoft-shell crab tempura! NO MATCH!\n",
      "spicy miso ramen does not equalebi katsu shrimp bao! NO MATCH!\n",
      "spicy miso ramen does not equalnagomi shoyu! NO MATCH!\n",
      "spicy miso ramen does not equalshio ramen! NO MATCH!\n",
      "spicy miso ramen\n"
     ]
    },
    {
     "ename": "TypeError",
     "evalue": "unsupported operand type(s) for +=: 'dict' and 'int'",
     "output_type": "error",
     "traceback": [
      "\u001b[1;31m---------------------------------------------------------------------------\u001b[0m",
      "\u001b[1;31mTypeError\u001b[0m                                 Traceback (most recent call last)",
      "\u001b[1;32mc:\\Users\\aglad\\Documents\\Coding\\github\\python-challenge\\challege-files\\PyRamen\\main.ipynb Cell 7'\u001b[0m in \u001b[0;36m<cell line: 2>\u001b[1;34m()\u001b[0m\n\u001b[0;32m     <a href='vscode-notebook-cell:/c%3A/Users/aglad/Documents/Coding/github/python-challenge/challege-files/PyRamen/main.ipynb#ch0000009?line=37'>38</a>\u001b[0m \u001b[39mprint\u001b[39m(menu_item)\n\u001b[0;32m     <a href='vscode-notebook-cell:/c%3A/Users/aglad/Documents/Coding/github/python-challenge/challege-files/PyRamen/main.ipynb#ch0000009?line=39'>40</a>\u001b[0m \u001b[39m# Cumulatively add up the metrics for each item key\u001b[39;00m\n\u001b[1;32m---> <a href='vscode-notebook-cell:/c%3A/Users/aglad/Documents/Coding/github/python-challenge/challege-files/PyRamen/main.ipynb#ch0000009?line=40'>41</a>\u001b[0m report[menu_item] \u001b[39m+\u001b[39m\u001b[39m=\u001b[39m quantity\n\u001b[0;32m     <a href='vscode-notebook-cell:/c%3A/Users/aglad/Documents/Coding/github/python-challenge/challege-files/PyRamen/main.ipynb#ch0000009?line=41'>42</a>\u001b[0m report[menu_item] \u001b[39m+\u001b[39m\u001b[39m=\u001b[39m price \u001b[39m*\u001b[39m quantity\n\u001b[0;32m     <a href='vscode-notebook-cell:/c%3A/Users/aglad/Documents/Coding/github/python-challenge/challege-files/PyRamen/main.ipynb#ch0000009?line=42'>43</a>\u001b[0m report[menu_item] \u001b[39m+\u001b[39m\u001b[39m=\u001b[39m cost \u001b[39m*\u001b[39m quantity\n",
      "\u001b[1;31mTypeError\u001b[0m: unsupported operand type(s) for +=: 'dict' and 'int'"
     ]
    }
   ],
   "source": [
    "# Loop over every row in the sales list object\n",
    "for sales_row in sales:\n",
    "    \n",
    "    # Line_Item_ID,Date,Credit_Card_Number,Quantity,Menu_Item\n",
    "    # Initialize sales data variables\n",
    "    quantity = int(sales_row[3])\n",
    "    sales_item = sales_row[4]\n",
    "\n",
    "\n",
    "    # If the item value not in the report, add it as a new entry with initialized metrics\n",
    "    # Naming convention allows the keys to be ordered in logical fashion, count, revenue, cost, profit\n",
    "    \n",
    "    if sales_item not in report:\n",
    "        report[sales_item] = {\n",
    "            '01-count': 0,\n",
    "            '02-revenue': 0,\n",
    "            '03-cogs': 0,\n",
    "            '04-profit': 0\n",
    "            }\n",
    "           \n",
    "    # For every row in our sales data, loop over the menu records to determine a match\n",
    "    for menu_row in menu:\n",
    "\n",
    "        # Item,Category,Description,Price,Cost\n",
    "        # Initialize menu data variables\n",
    "        menu_item = menu_row[0]\n",
    "        price = float(menu_row[3])\n",
    "        cost = float(menu_row[4])\n",
    "\n",
    "        # Calculate profit of each item in the menu data\n",
    "        profit = price - cost\n",
    "        \n",
    "        \n",
    "        # If the item value in our sales data is equal to the any of the items in the menu, then begin tracking metrics for that item\n",
    "        if menu_item == sales_item:\n",
    "\n",
    "            # Print out matching menu data\n",
    "            print(menu_item)\n",
    "            \n",
    "            # Cumulatively add up the metrics for each item key\n",
    "            report[menu_item]['01-count'] += quantity\n",
    "            report[menu_item]['02-revenue'] += price * quantity\n",
    "            report[menu_item]['03-cogs'] += cost * quantity\n",
    "            report[menu_item]['04-profit'] += profit * quantity\n",
    "            \n",
    "            \n",
    "        # @TODO: Else, the sales item does not equal any fo the item in the menu data, therefore no match\n",
    "        print(f'{sales_item} does not equal{menu_item}! NO MATCH!')\n",
    "        \n",
    "\n",
    "    # @TODO: Increment the row counter by 1\n",
    "    row_count += 1"
   ]
  },
  {
   "cell_type": "code",
   "execution_count": null,
   "metadata": {},
   "outputs": [],
   "source": [
    "# Print total number of records in sales data\n",
    "print(len(report))"
   ]
  },
  {
   "cell_type": "code",
   "execution_count": null,
   "metadata": {},
   "outputs": [],
   "source": [
    "# Write out report to a text file (won't appear on the command line output)\n",
    "with open('report.txt', 'w') as f:\n",
    "    f.write(report)"
   ]
  }
 ],
 "metadata": {
  "kernelspec": {
   "display_name": "Python 3.10.5 64-bit",
   "language": "python",
   "name": "python3"
  },
  "language_info": {
   "codemirror_mode": {
    "name": "ipython",
    "version": 3
   },
   "file_extension": ".py",
   "mimetype": "text/x-python",
   "name": "python",
   "nbconvert_exporter": "python",
   "pygments_lexer": "ipython3",
   "version": "3.10.5"
  },
  "orig_nbformat": 4,
  "vscode": {
   "interpreter": {
    "hash": "61385ed115710040535357091b9477b96a704b6acf1326543ab0da0cd8799d4f"
   }
  }
 },
 "nbformat": 4,
 "nbformat_minor": 2
}
